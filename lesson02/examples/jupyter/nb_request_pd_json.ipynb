{
 "cells": [
  {
   "cell_type": "markdown",
   "id": "8e7a5b07",
   "metadata": {},
   "source": [
    "# Typing. Iterables"
   ]
  },
  {
   "cell_type": "code",
   "execution_count": null,
   "metadata": {},
   "outputs": [],
   "source": [
    "from typing import Union, List, Optional, Any, Dict"
   ]
  },
  {
   "cell_type": "code",
   "execution_count": null,
   "id": "232c9da1",
   "metadata": {
    "is_executing": true
   },
   "outputs": [],
   "source": [
    "def max_in_lists(*l: List[int]) -> int:\n",
    "    flat = [x for li in l for x in li]\n",
    "    print(flat)\n",
    "    return max(flat)\n",
    "\n",
    "max_in_lists([1,2,3], [-1, 120, 91], [148, 98, 15])"
   ]
  },
  {
   "cell_type": "code",
   "execution_count": null,
   "metadata": {},
   "outputs": [],
   "source": [
    "vara=[\"10\",\"11\",\"12\",\"13\",\"14\",\"15\"]\n",
    "print([vara[i] for i in (1,2,5)])"
   ]
  },
  {
   "cell_type": "code",
   "execution_count": null,
   "metadata": {},
   "outputs": [],
   "source": [
    "def foo(x: int) -> int:\n",
    "    return x + 5\n",
    "\n",
    "foo(5)"
   ]
  },
  {
   "cell_type": "code",
   "execution_count": null,
   "metadata": {},
   "outputs": [],
   "source": [
    "# expect it to fail\n",
    "foo(\"5\")"
   ]
  },
  {
   "cell_type": "code",
   "execution_count": null,
   "metadata": {},
   "outputs": [],
   "source": [
    "def bar(x: List[str]) -> Optional[Dict[str, int]]:\n",
    "    \"\"\"\n",
    "    :param x: [\"bar1\", \"bar2\", \"bar3\"]\n",
    "    :return: {\"a\": 1, \"b\": 2, } or None\n",
    "    \"\"\"\n",
    "    return {\"a\": 1}\n",
    "\n",
    "bar(x=[\"a\", \"b\"])"
   ]
  },
  {
   "cell_type": "code",
   "execution_count": null,
   "metadata": {},
   "outputs": [],
   "source": [
    "bar(5)"
   ]
  },
  {
   "cell_type": "markdown",
   "id": "edcc706a",
   "metadata": {},
   "source": [
    "# Requests"
   ]
  },
  {
   "cell_type": "code",
   "execution_count": null,
   "id": "b9fd493f",
   "metadata": {
    "ExecuteTime": {
     "end_time": "2023-06-01T16:00:48.061540Z",
     "start_time": "2023-06-01T16:00:47.795919Z"
    }
   },
   "outputs": [],
   "source": [
    "import requests\n",
    "\n",
    "response = requests.get(\n",
    "    url='https://fake-api-vycpfa6oca-uc.a.run.app/sales',\n",
    "    params={'date': '2022-08-09', 'page': '1'},\n",
    "    headers={'Authorization': '2b8d97ce57d401abd89f45b0079d8790edd940e6'}\n",
    ")"
   ]
  },
  {
   "cell_type": "code",
   "execution_count": null,
   "id": "8969e330",
   "metadata": {
    "ExecuteTime": {
     "end_time": "2023-06-01T16:00:48.498986Z",
     "start_time": "2023-06-01T16:00:48.495309Z"
    }
   },
   "outputs": [],
   "source": [
    "response.status_code"
   ]
  },
  {
   "cell_type": "code",
   "execution_count": null,
   "id": "9cf221f9",
   "metadata": {
    "ExecuteTime": {
     "end_time": "2023-06-01T16:02:43.293227Z",
     "start_time": "2023-06-01T16:02:43.290546Z"
    }
   },
   "outputs": [],
   "source": [
    "res =response.json()"
   ]
  },
  {
   "cell_type": "code",
   "execution_count": null,
   "metadata": {},
   "outputs": [],
   "source": [
    "res"
   ]
  },
  {
   "cell_type": "markdown",
   "metadata": {},
   "source": [
    "# Ploting"
   ]
  },
  {
   "cell_type": "code",
   "execution_count": null,
   "id": "5dd82137",
   "metadata": {
    "ExecuteTime": {
     "end_time": "2023-06-01T16:02:47.160826Z",
     "start_time": "2023-06-01T16:02:47.154076Z"
    }
   },
   "outputs": [],
   "source": [
    "import pandas as pd\n",
    "\n",
    "df = pd.DataFrame(res)"
   ]
  },
  {
   "cell_type": "code",
   "execution_count": null,
   "id": "f0003675",
   "metadata": {
    "ExecuteTime": {
     "end_time": "2023-06-01T16:02:48.832493Z",
     "start_time": "2023-06-01T16:02:48.823636Z"
    }
   },
   "outputs": [],
   "source": [
    "df"
   ]
  },
  {
   "cell_type": "code",
   "execution_count": null,
   "metadata": {},
   "outputs": [],
   "source": [
    "df['product'].value_counts()"
   ]
  },
  {
   "cell_type": "code",
   "execution_count": null,
   "id": "19eb3ce8",
   "metadata": {
    "ExecuteTime": {
     "end_time": "2023-06-01T16:03:22.164306Z",
     "start_time": "2023-06-01T16:03:21.999522Z"
    }
   },
   "outputs": [],
   "source": [
    "import matplotlib\n",
    "#df.plot()\n",
    "df['product'].value_counts().plot(kind='bar', xlabel='product', ylabel='Count', rot=0)"
   ]
  },
  {
   "cell_type": "code",
   "execution_count": null,
   "id": "92362d87",
   "metadata": {
    "ExecuteTime": {
     "end_time": "2023-06-01T16:04:17.932056Z",
     "start_time": "2023-06-01T16:04:17.828744Z"
    }
   },
   "outputs": [],
   "source": [
    "df.to_csv('./sales.csv')"
   ]
  },
  {
   "cell_type": "markdown",
   "metadata": {},
   "source": [
    "# Export"
   ]
  },
  {
   "cell_type": "code",
   "execution_count": null,
   "id": "dc4dbe2e",
   "metadata": {
    "ExecuteTime": {
     "end_time": "2023-06-01T16:05:10.068677Z",
     "start_time": "2023-06-01T16:05:10.048758Z"
    }
   },
   "outputs": [],
   "source": [
    "phone = df[df['product'] == 'Phone']\n",
    "phone"
   ]
  },
  {
   "cell_type": "code",
   "execution_count": null,
   "metadata": {},
   "outputs": [],
   "source": [
    "phone.to_csv('./phones.csv')"
   ]
  },
  {
   "cell_type": "markdown",
   "metadata": {},
   "source": [
    "Convert Pandas Dataftame to JSON format"
   ]
  },
  {
   "cell_type": "code",
   "execution_count": null,
   "id": "c31d9e09",
   "metadata": {
    "ExecuteTime": {
     "end_time": "2023-06-01T16:05:27.130988Z",
     "start_time": "2023-06-01T16:05:26.954803Z"
    }
   },
   "outputs": [],
   "source": [
    "out = phone.to_json(orient='records')[1:-1].replace('},{', '} {')"
   ]
  },
  {
   "cell_type": "code",
   "execution_count": null,
   "metadata": {},
   "outputs": [],
   "source": [
    "out"
   ]
  },
  {
   "cell_type": "markdown",
   "metadata": {},
   "source": [
    "Write result to a file"
   ]
  },
  {
   "cell_type": "code",
   "execution_count": null,
   "metadata": {},
   "outputs": [],
   "source": [
    "with open('phone_pd.json', 'w') as f:\n",
    "    f.write(out)"
   ]
  },
  {
   "cell_type": "code",
   "execution_count": null,
   "metadata": {},
   "outputs": [],
   "source": [
    "import json\n",
    "\n",
    "with open('./phone.json', 'w', encoding='utf8') as f:\n",
    "    json.dump(out, f, indent=2) "
   ]
  }
 ],
 "metadata": {
  "kernelspec": {
   "display_name": "Python 3 (ipykernel)",
   "language": "python",
   "name": "python3"
  },
  "language_info": {
   "codemirror_mode": {
    "name": "ipython",
    "version": 3
   },
   "file_extension": ".py",
   "mimetype": "text/x-python",
   "name": "python",
   "nbconvert_exporter": "python",
   "pygments_lexer": "ipython3",
   "version": "3.11.5"
  }
 },
 "nbformat": 4,
 "nbformat_minor": 5
}
